{
 "cells": [
  {
   "cell_type": "code",
   "execution_count": 1,
   "metadata": {},
   "outputs": [],
   "source": [
    "import torch\n",
    "import numpy as np\n",
    "\n",
    "import matplotlib.pyplot as plt\n",
    "%matplotlib inline\n",
    "\n",
    "import regularization as R\n",
    "from modules import NMU, NAU, LeibnizModule\n",
    "from samplers import *\n",
    "from datasets import MatrixDeterminantDataset, BatchDataLoader\n",
    "\n",
    "torch.cuda.set_device(2)"
   ]
  },
  {
   "cell_type": "code",
   "execution_count": 2,
   "metadata": {},
   "outputs": [],
   "source": [
    "def train_until_convergence(\n",
    "    model,\n",
    "    train_loader,\n",
    "    dataset_valid_interpolation_data,\n",
    "    dataset_test_extrapolation_data,\n",
    "    regualizer_scaling_start=5000,\n",
    "    max_iter=20000,\n",
    "    alpha_scale=1.001,\n",
    "    alpha_start=0.05,\n",
    "    check_period=250,\n",
    "    lr=2e-3,\n",
    "    verbose=False\n",
    "):\n",
    "    optimizer = torch.optim.Adam(model.parameters(), lr=lr)\n",
    "    criterion = torch.nn.MSELoss()\n",
    "    \n",
    "    def test_model(data):\n",
    "        with torch.no_grad():\n",
    "            var, x, t = data\n",
    "            return criterion(model(x), t) / var\n",
    "    \n",
    "    for epoch_i, (var, x_train, t_train) in zip(range(1, max_iter + 1), train_loader):\n",
    "        optimizer.zero_grad()\n",
    "        # forward\n",
    "        y_train = model(x_train)\n",
    "\n",
    "        if(epoch_i == regualizer_scaling_start):\n",
    "            r_w_scale = 0.01\n",
    "        elif(epoch_i > regualizer_scaling_start):\n",
    "            r_w_scale *= alpha_scale\n",
    "        else:\n",
    "            r_w_scale = 0\n",
    "            \n",
    "        muls = dict(\n",
    "            sparsity=r_w_scale,\n",
    "            n_coeffs=0\n",
    "        )\n",
    "\n",
    "        loss_train_regualizer = R.eval_regularizers(model, muls)\n",
    "        loss_train_criterion = criterion(y_train, t_train) / var\n",
    "        loss_train = loss_train_criterion + loss_train_regualizer\n",
    "        \n",
    "        if(epoch_i % check_period == 0):\n",
    "            interpolation_error = test_model(dataset_valid_interpolation_data) \n",
    "            extrapolation_error = test_model(dataset_test_extrapolation_data) \n",
    "            sparsity_loss = loss_train_regualizer.detach().cpu().numpy()\n",
    "            if(verbose):\n",
    "                infos = f\"[epoch {epoch_i}] inter: {interpolation_error:.4g}, extra: {extrapolation_error:.4g}\"\n",
    "                if(r_w_scale > 0):\n",
    "                    infos += f\" | reg: {sparsity_loss / r_w_scale:.4g} (scale: {r_w_scale:.4g})\"\n",
    "                print(infos)\n",
    "            if(r_w_scale > 0):\n",
    "                if(sparsity_loss / r_w_scale < 1e-4 and interpolation_error < 1e-3 and extrapolation_error < 1e-3):\n",
    "                    return True\n",
    "\n",
    "        \n",
    "        # Optimize model\n",
    "        if loss_train.requires_grad:\n",
    "            loss_train.backward()\n",
    "            optimizer.step()\n",
    "    return False\n",
    "\n",
    "def loaders(dataset):\n",
    "    inter_sampler = uniform(-2, 2)\n",
    "    train_loader = dataset.dataloader(batch_size=64, samplers=[inter_sampler])\n",
    "    dataset_valid_interpolation_data = next(iter(dataset.dataloader(batch_size=10000, samplers=[inter_sampler])))\n",
    "    dataset_test_extrapolation_data = next(iter(dataset.dataloader(batch_size=10000, samplers=[uniform(-4, 4)])))\n",
    "    return train_loader, dataset_valid_interpolation_data, dataset_test_extrapolation_data"
   ]
  },
  {
   "cell_type": "markdown",
   "metadata": {},
   "source": [
    "# Full matrices"
   ]
  },
  {
   "cell_type": "code",
   "execution_count": 3,
   "metadata": {},
   "outputs": [
    {
     "data": {
      "text/html": [
       "MatrixDeterminantDataset for matrices of form : <br>$ \\begin{pmatrix} a_{1} & a_{2} \\\\ a_{3} & a_{4} \\end{pmatrix}$ <br>Network input is : $ \\left(a_{1} \\; a_{2} \\; a_{3} \\; a_{4}\\right)$ "
      ],
      "text/plain": [
       "<datasets.MatrixDeterminantDataset at 0x7f056c7449d0>"
      ]
     },
     "execution_count": 3,
     "metadata": {},
     "output_type": "execute_result"
    }
   ],
   "source": [
    "ms = np.array([\n",
    "    [1, 2],\n",
    "    [3, 4]\n",
    "])\n",
    "\n",
    "dataset = MatrixDeterminantDataset(ms)\n",
    "dataset"
   ]
  },
  {
   "cell_type": "code",
   "execution_count": 4,
   "metadata": {},
   "outputs": [
    {
     "name": "stdout",
     "output_type": "stream",
     "text": [
      "[epoch 250] inter: 0.04424, extra: 0.08158\n",
      "[epoch 500] inter: 0.004906, extra: 0.004747\n",
      "[epoch 750] inter: 0.0009911, extra: 0.000793\n",
      "[epoch 1000] inter: 0.0002013, extra: 0.0001647 | reg: 0.05736 (scale: 0.01)\n",
      "[epoch 1250] inter: 8.633e-05, extra: 9.866e-05 | reg: 0.05632 (scale: 0.01284)\n",
      "[epoch 1500] inter: 4.392e-05, extra: 5.363e-05 | reg: 0.05516 (scale: 0.01648)\n",
      "[epoch 1750] inter: 2.028e-05, extra: 2.322e-05 | reg: 0.05389 (scale: 0.02116)\n",
      "[epoch 2000] inter: 7.895e-06, extra: 7.953e-06 | reg: 0.05234 (scale: 0.02717)\n",
      "[epoch 2250] inter: 2.347e-06, extra: 1.885e-06 | reg: 0.05016 (scale: 0.03488)\n",
      "[epoch 2500] inter: 5.111e-07, extra: 3.565e-07 | reg: 0.04673 (scale: 0.04478)\n",
      "[epoch 2750] inter: 2.366e-07, extra: 1.781e-07 | reg: 0.04126 (scale: 0.0575)\n",
      "[epoch 3000] inter: 3.156e-07, extra: 2.476e-07 | reg: 0.03337 (scale: 0.07382)\n",
      "[epoch 3250] inter: 3.167e-07, extra: 2.353e-07 | reg: 0.02388 (scale: 0.09477)\n",
      "[epoch 3500] inter: 2.857e-07, extra: 2.753e-07 | reg: 0.009949 (scale: 0.1217)\n",
      "[epoch 3750] inter: 5.913e-08, extra: 5.96e-08 | reg: 0.0003836 (scale: 0.1562)\n",
      "[epoch 4000] inter: 6.462e-11, extra: 6.525e-11 | reg: 3.64e-07 (scale: 0.2006)\n"
     ]
    },
    {
     "data": {
      "text/plain": [
       "True"
      ]
     },
     "execution_count": 4,
     "metadata": {},
     "output_type": "execute_result"
    }
   ],
   "source": [
    "model = LeibnizModule(4, 5).cuda()\n",
    "train_until_convergence(\n",
    "    model,\n",
    "    *loaders(dataset),\n",
    "    regualizer_scaling_start=1000,\n",
    "    verbose=True\n",
    ")"
   ]
  },
  {
   "cell_type": "code",
   "execution_count": 5,
   "metadata": {},
   "outputs": [
    {
     "data": {
      "text/markdown": [
       "$a_{1}a_{4}-a_{2}a_{3}$"
      ],
      "text/plain": [
       "<IPython.core.display.Markdown object>"
      ]
     },
     "execution_count": 5,
     "metadata": {},
     "output_type": "execute_result"
    }
   ],
   "source": [
    "model.disp_equation(dataset.adapt_alphabet())"
   ]
  },
  {
   "cell_type": "code",
   "execution_count": 6,
   "metadata": {},
   "outputs": [
    {
     "data": {
      "text/html": [
       "MatrixDeterminantDataset for matrices of form : <br>$ \\begin{pmatrix} a_{1} & a_{2} & a_{3} \\\\ a_{4} & a_{5} & a_{6} \\\\ a_{7} & a_{8} & a_{9} \\end{pmatrix}$ <br>Network input is : $ \\left(a_{1} \\; a_{2} \\; a_{3} \\; a_{4} \\; a_{5} \\; a_{6} \\; a_{7} \\; a_{8} \\; a_{9}\\right)$ "
      ],
      "text/plain": [
       "<datasets.MatrixDeterminantDataset at 0x7f056c7235d0>"
      ]
     },
     "execution_count": 6,
     "metadata": {},
     "output_type": "execute_result"
    }
   ],
   "source": [
    "ms = np.array([\n",
    "    [1, 2, 3],\n",
    "    [4, 5, 6],\n",
    "    [7, 8, 9],\n",
    "])\n",
    "\n",
    "dataset = MatrixDeterminantDataset(ms)\n",
    "dataset"
   ]
  },
  {
   "cell_type": "code",
   "execution_count": 7,
   "metadata": {},
   "outputs": [
    {
     "name": "stdout",
     "output_type": "stream",
     "text": [
      "[epoch 250] inter: 0.6659, extra: 0.7474\n",
      "[epoch 500] inter: 0.1664, extra: 0.1814\n",
      "[epoch 750] inter: 0.00093, extra: 0.01264\n",
      "[epoch 1000] inter: 0.0004637, extra: 0.004971\n",
      "[epoch 1250] inter: 0.0002485, extra: 0.002426\n",
      "[epoch 1500] inter: 0.0001316, extra: 0.001965\n",
      "[epoch 1750] inter: 7.268e-05, extra: 0.001289\n",
      "[epoch 2000] inter: 4.4e-05, extra: 0.0009247\n",
      "[epoch 2250] inter: 2.854e-05, extra: 0.0005197\n",
      "[epoch 2500] inter: 1.898e-05, extra: 0.000358\n",
      "[epoch 2750] inter: 1.314e-05, extra: 0.0002647\n",
      "[epoch 3000] inter: 9.557e-06, extra: 0.0001761 | reg: 0.04309 (scale: 0.01)\n",
      "[epoch 3250] inter: 7.043e-06, extra: 0.000142 | reg: 0.03842 (scale: 0.01284)\n",
      "[epoch 3500] inter: 4.809e-06, extra: 0.0001388 | reg: 0.03196 (scale: 0.01648)\n",
      "[epoch 3750] inter: 1.276e-06, extra: 2.927e-05 | reg: 0.02576 (scale: 0.02116)\n",
      "[epoch 4000] inter: 1.46e-07, extra: 2.673e-06 | reg: 0.02246 (scale: 0.02717)\n",
      "[epoch 4250] inter: 1.813e-08, extra: 7.455e-08 | reg: 0.01967 (scale: 0.03488)\n",
      "[epoch 4500] inter: 1.08e-08, extra: 2.755e-08 | reg: 0.01666 (scale: 0.04478)\n",
      "[epoch 4750] inter: 3.198e-09, extra: 5.126e-09 | reg: 0.01358 (scale: 0.0575)\n",
      "[epoch 5000] inter: 6.074e-10, extra: 1.585e-09 | reg: 0.01012 (scale: 0.07382)\n",
      "[epoch 5250] inter: 1.885e-11, extra: 2.081e-11 | reg: 0.006306 (scale: 0.09477)\n",
      "[epoch 5500] inter: 7.794e-14, extra: 3.56e-13 | reg: 0.003496 (scale: 0.1217)\n",
      "[epoch 5750] inter: 1.362e-14, extra: 1.905e-14 | reg: 0.00164 (scale: 0.1562)\n",
      "[epoch 6000] inter: 1.614e-14, extra: 8.386e-14 | reg: 0.0003263 (scale: 0.2006)\n",
      "[epoch 6250] inter: 1.3e-14, extra: 1.906e-14 | reg: 4.081e-07 (scale: 0.2575)\n"
     ]
    },
    {
     "data": {
      "text/plain": [
       "True"
      ]
     },
     "execution_count": 7,
     "metadata": {},
     "output_type": "execute_result"
    }
   ],
   "source": [
    "model = LeibnizModule(9, 15).cuda()\n",
    "train_until_convergence(\n",
    "    model,\n",
    "    *loaders(dataset),\n",
    "    regualizer_scaling_start=3000,\n",
    "    verbose=True\n",
    ")"
   ]
  },
  {
   "cell_type": "code",
   "execution_count": 8,
   "metadata": {},
   "outputs": [
    {
     "data": {
      "text/markdown": [
       "$a_{3}a_{4}a_{8}-a_{3}a_{5}a_{7}-a_{2}a_{4}a_{9}+a_{1}a_{5}a_{9}+a_{2}a_{6}a_{7}-a_{1}a_{6}a_{8}$"
      ],
      "text/plain": [
       "<IPython.core.display.Markdown object>"
      ]
     },
     "execution_count": 8,
     "metadata": {},
     "output_type": "execute_result"
    }
   ],
   "source": [
    "model.disp_equation(dataset.adapt_alphabet())"
   ]
  },
  {
   "cell_type": "code",
   "execution_count": 9,
   "metadata": {},
   "outputs": [
    {
     "data": {
      "text/html": [
       "MatrixDeterminantDataset for matrices of form : <br>$ \\begin{pmatrix} a_{1} & a_{2} & a_{3} & a_{4} \\\\ a_{5} & a_{6} & a_{7} & a_{8} \\\\ a_{9} & a_{10} & a_{11} & a_{12} \\\\ a_{13} & a_{14} & a_{15} & a_{16} \\end{pmatrix}$ <br>Network input is : $ \\left(a_{1} \\; a_{2} \\; a_{3} \\; a_{4} \\; a_{5} \\; a_{6} \\; a_{7} \\; a_{8} \\; a_{9} \\; a_{10} \\; a_{11} \\; a_{12} \\; a_{13} \\; a_{14} \\; a_{15} \\; a_{16}\\right)$ "
      ],
      "text/plain": [
       "<datasets.MatrixDeterminantDataset at 0x7f0564afdc90>"
      ]
     },
     "execution_count": 9,
     "metadata": {},
     "output_type": "execute_result"
    }
   ],
   "source": [
    "ms = np.array([\n",
    "    [1, 2, 3, 4],\n",
    "    [5, 6, 7, 8],\n",
    "    [9, 10, 11, 12],\n",
    "    [13, 14, 15, 16]\n",
    "])\n",
    "\n",
    "dataset = MatrixDeterminantDataset(ms)\n",
    "dataset"
   ]
  },
  {
   "cell_type": "code",
   "execution_count": 11,
   "metadata": {},
   "outputs": [
    {
     "name": "stdout",
     "output_type": "stream",
     "text": [
      "[epoch 500] inter: 0.9929, extra: 18.31\n",
      "[epoch 1000] inter: 0.8628, extra: 14.99\n",
      "[epoch 1500] inter: 0.8221, extra: 64.64\n",
      "[epoch 2000] inter: 0.7093, extra: 23.3\n",
      "[epoch 2500] inter: 0.6208, extra: 3.411\n",
      "[epoch 3000] inter: 0.494, extra: 32.64\n",
      "[epoch 3500] inter: 0.3755, extra: 23.98\n",
      "[epoch 4000] inter: 0.1274, extra: 148.9\n",
      "[epoch 4500] inter: 0.1111, extra: 44.84\n",
      "[epoch 5000] inter: 0.04174, extra: 36.35\n",
      "[epoch 5500] inter: 0.0001259, extra: 0.89\n",
      "[epoch 6000] inter: 9.107e-05, extra: 0.9577\n",
      "[epoch 6500] inter: 6.039e-05, extra: 0.6208\n",
      "[epoch 7000] inter: 1.514e-05, extra: 3.327\n",
      "[epoch 7500] inter: 1.323e-05, extra: 2.868\n",
      "[epoch 8000] inter: 1.839e-05, extra: 1.659\n",
      "[epoch 8500] inter: 6.056e-05, extra: 7.269\n",
      "[epoch 9000] inter: 1.079e-05, extra: 1.188\n",
      "[epoch 9500] inter: 1.038e-05, extra: 1.744\n",
      "[epoch 10000] inter: 3.244e-06, extra: 0.3043 | reg: 0.04601 (scale: 0.01)\n",
      "[epoch 10500] inter: 5.259e-07, extra: 0.05079 | reg: 0.03343 (scale: 0.01648)\n",
      "[epoch 11000] inter: 3.437e-05, extra: 1.203 | reg: 0.01895 (scale: 0.02717)\n",
      "[epoch 11500] inter: 1.835e-05, extra: 1.468 | reg: 0.01227 (scale: 0.04478)\n",
      "[epoch 12000] inter: 0.0004059, extra: 0.975 | reg: 0.005625 (scale: 0.07382)\n",
      "[epoch 12500] inter: 0.0001194, extra: 0.333 | reg: 0.003137 (scale: 0.1217)\n",
      "[epoch 13000] inter: 0.0004218, extra: 5.227 | reg: 0.002078 (scale: 0.2006)\n",
      "[epoch 13500] inter: 0.0004139, extra: 5.253 | reg: 0.001367 (scale: 0.3306)\n",
      "[epoch 14000] inter: 0.0003934, extra: 3.561 | reg: 0.0008343 (scale: 0.5449)\n",
      "[epoch 14500] inter: 0.0003445, extra: 2.062 | reg: 0.0001641 (scale: 0.8981)\n",
      "[epoch 15000] inter: 0.0003416, extra: 4.912 | reg: 9.865e-05 (scale: 1.48)\n",
      "[epoch 15500] inter: 0.0009136, extra: 16.26 | reg: 0.0001699 (scale: 2.44)\n",
      "[epoch 16000] inter: 7.759e-06, extra: 0.1361 | reg: 6.723e-07 (scale: 4.022)\n",
      "[epoch 16500] inter: 1.118e-05, extra: 0.181 | reg: 2.896e-06 (scale: 6.63)\n",
      "[epoch 17000] inter: 2.685e-05, extra: 0.3669 | reg: 4.003e-06 (scale: 10.93)\n",
      "[epoch 17500] inter: 2.079e-08, extra: 4.7e-05 | reg: 4.124e-09 (scale: 18.01)\n"
     ]
    },
    {
     "data": {
      "text/plain": [
       "True"
      ]
     },
     "execution_count": 11,
     "metadata": {},
     "output_type": "execute_result"
    }
   ],
   "source": [
    "model = LeibnizModule(16, 150).cuda()\n",
    "train_until_convergence(\n",
    "    model,\n",
    "    *loaders(dataset),\n",
    "    regualizer_scaling_start=10000,\n",
    "    verbose=True,\n",
    "    check_period=500\n",
    ")"
   ]
  },
  {
   "cell_type": "code",
   "execution_count": 12,
   "metadata": {},
   "outputs": [
    {
     "data": {
      "text/markdown": [
       "$a_{4}a_{7}a_{10}a_{13}+a_{2}a_{7}a_{9}a_{16}-a_{3}a_{8}a_{10}a_{13}-a_{1}a_{6}a_{12}a_{15}+a_{3}a_{5}a_{10}a_{16}+a_{4}a_{6}a_{9}a_{15}+a_{1}a_{7}a_{12}a_{14}-a_{2}a_{7}a_{12}a_{13}-a_{3}a_{5}a_{12}a_{14}+a_{1}a_{6}a_{11}a_{16}-a_{4}a_{7}a_{9}a_{14}-a_{2}a_{8}a_{9}a_{15}+a_{2}a_{8}a_{11}a_{13}+a_{4}a_{5}a_{11}a_{14}+a_{1}a_{8}a_{10}a_{15}-a_{3}a_{6}a_{9}a_{16}-a_{1}a_{7}a_{10}a_{16}-a_{1}a_{8}a_{11}a_{14}-a_{4}a_{6}a_{11}a_{13}+a_{3}a_{8}a_{9}a_{14}+a_{3}a_{6}a_{12}a_{13}-a_{4}a_{5}a_{10}a_{15}+a_{2}a_{5}a_{12}a_{15}-a_{2}a_{5}a_{11}a_{16}$"
      ],
      "text/plain": [
       "<IPython.core.display.Markdown object>"
      ]
     },
     "execution_count": 12,
     "metadata": {},
     "output_type": "execute_result"
    }
   ],
   "source": [
    "model.disp_equation(dataset.adapt_alphabet())"
   ]
  },
  {
   "cell_type": "code",
   "execution_count": 3,
   "metadata": {},
   "outputs": [
    {
     "data": {
      "text/html": [
       "MatrixDeterminantDataset for matrices of form : <br>$ \\begin{pmatrix} a_{1} & a_{2} & a_{3} & a_{4} & a_{5} \\\\ a_{6} & a_{7} & a_{8} & a_{9} & a_{10} \\\\ a_{11} & a_{12} & a_{13} & a_{14} & a_{15} \\\\ a_{16} & a_{17} & a_{18} & a_{19} & a_{20} \\\\ a_{21} & a_{22} & a_{23} & a_{24} & a_{25} \\end{pmatrix}$ <br>Network input is : $ \\left(a_{1} \\; a_{2} \\; a_{3} \\; a_{4} \\; a_{5} \\; a_{6} \\; a_{7} \\; a_{8} \\; a_{9} \\; a_{10} \\; a_{11} \\; a_{12} \\; a_{13} \\; a_{14} \\; a_{15} \\; a_{16} \\; a_{17} \\; a_{18} \\; a_{19} \\; a_{20} \\; a_{21} \\; a_{22} \\; a_{23} \\; a_{24} \\; a_{25}\\right)$ "
      ],
      "text/plain": [
       "<datasets.MatrixDeterminantDataset at 0x7fbbb6b1ebd0>"
      ]
     },
     "execution_count": 3,
     "metadata": {},
     "output_type": "execute_result"
    }
   ],
   "source": [
    "ms = np.array([\n",
    "    [1, 2, 3, 4, 5],\n",
    "    [6, 7, 8, 9, 10],\n",
    "    [11, 12, 13, 14, 15],\n",
    "    [16, 17, 18, 19, 20],\n",
    "    [21, 22, 23, 24, 25]\n",
    "])\n",
    "\n",
    "dataset = MatrixDeterminantDataset(ms)\n",
    "dataset"
   ]
  },
  {
   "cell_type": "code",
   "execution_count": 10,
   "metadata": {
    "scrolled": false
   },
   "outputs": [
    {
     "name": "stdout",
     "output_type": "stream",
     "text": [
      "[epoch 2000] inter: 0.9638, extra: 0.9764\n",
      "[epoch 4000] inter: 0.839, extra: 0.856\n",
      "[epoch 6000] inter: 0.7533, extra: 0.7658\n",
      "[epoch 8000] inter: 0.697, extra: 0.7111\n",
      "[epoch 10000] inter: 0.6154, extra: 0.6242\n",
      "[epoch 12000] inter: 0.5434, extra: 0.5581\n",
      "[epoch 14000] inter: 0.4806, extra: 0.5033\n",
      "[epoch 16000] inter: 0.403, extra: 0.4339\n",
      "[epoch 18000] inter: 0.3577, extra: 0.3824\n",
      "[epoch 20000] inter: 0.3158, extra: 0.3494\n",
      "[epoch 22000] inter: 0.2431, extra: 0.2636\n",
      "[epoch 24000] inter: 0.1883, extra: 0.1978\n",
      "[epoch 26000] inter: 0.1464, extra: 0.1543\n",
      "[epoch 28000] inter: 0.1153, extra: 0.1195\n",
      "[epoch 30000] inter: 0.07421, extra: 0.07547\n",
      "[epoch 32000] inter: 0.04127, extra: 0.04121\n",
      "[epoch 34000] inter: 0.03305, extra: 0.0326\n",
      "[epoch 36000] inter: 0.02552, extra: 0.02471\n",
      "[epoch 38000] inter: 0.008403, extra: 0.008868\n",
      "[epoch 40000] inter: 2.095e-06, extra: 0.0001394 | reg: 0.03587 (scale: 0.01)\n",
      "[epoch 42000] inter: 4.948e-05, extra: 0.0006079 | reg: 0.00164 (scale: 0.07382)\n",
      "[epoch 44000] inter: 9.403e-05, extra: 0.0006412 | reg: 6.071e-05 (scale: 0.5449)\n"
     ]
    },
    {
     "data": {
      "text/plain": [
       "True"
      ]
     },
     "execution_count": 10,
     "metadata": {},
     "output_type": "execute_result"
    }
   ],
   "source": [
    "inter_samplers = [random_sign(one_mean_prod_sample)]\n",
    "extra_sampler = uniform(-2, 2)\n",
    "\n",
    "train_loader = dataset.dataloader(batch_size=256, samplers=inter_samplers)\n",
    "dataset_valid_interpolation_data = next(iter(dataset.dataloader(batch_size=5000, samplers=inter_samplers)))\n",
    "dataset_test_extrapolation_data = next(iter(dataset.dataloader(batch_size=5000, samplers=[extra_sampler])))\n",
    "\n",
    "model = LeibnizModule(25, 1000).cuda()\n",
    "train_until_convergence(\n",
    "    model,\n",
    "    train_loader,\n",
    "    dataset_valid_interpolation_data,\n",
    "    dataset_test_extrapolation_data,\n",
    "    regualizer_scaling_start=4*10**4,\n",
    "    max_iter=6*10**4,\n",
    "    check_period=2000,\n",
    "    verbose=True,\n",
    "    lr=2e-3\n",
    ")"
   ]
  },
  {
   "cell_type": "code",
   "execution_count": 11,
   "metadata": {},
   "outputs": [
    {
     "data": {
      "text/markdown": [
       "$-a_{2}a_{9}a_{11}a_{18}a_{25}+a_{2}a_{6}a_{13}a_{20}a_{24}-a_{3}a_{7}a_{15}a_{16}a_{24}-a_{5}a_{8}a_{14}a_{17}a_{21}-a_{1}a_{9}a_{15}a_{18}a_{22}+a_{1}a_{10}a_{13}a_{17}a_{24}-a_{2}a_{10}a_{13}a_{16}a_{24}-a_{3}a_{10}a_{11}a_{17}a_{24}+a_{3}a_{9}a_{15}a_{16}a_{22}-a_{2}a_{10}a_{11}a_{19}a_{23}+a_{4}a_{7}a_{11}a_{18}a_{25}+a_{4}a_{8}a_{11}a_{20}a_{22}-a_{3}a_{6}a_{12}a_{20}a_{24}-a_{5}a_{9}a_{12}a_{18}a_{21}-a_{3}a_{9}a_{12}a_{16}a_{25}+a_{5}a_{8}a_{12}a_{19}a_{21}+a_{5}a_{7}a_{11}a_{19}a_{23}-a_{1}a_{7}a_{13}a_{20}a_{24}+a_{3}a_{6}a_{12}a_{19}a_{25}-a_{4}a_{8}a_{11}a_{17}a_{25}-a_{1}a_{10}a_{13}a_{19}a_{22}-a_{4}a_{8}a_{12}a_{20}a_{21}-a_{5}a_{8}a_{11}a_{19}a_{22}-a_{3}a_{7}a_{11}a_{19}a_{25}-a_{2}a_{9}a_{15}a_{16}a_{23}-a_{4}a_{6}a_{12}a_{18}a_{25}-a_{5}a_{6}a_{13}a_{17}a_{24}+a_{5}a_{6}a_{14}a_{17}a_{23}-a_{4}a_{7}a_{11}a_{20}a_{23}+a_{1}a_{7}a_{13}a_{19}a_{25}-a_{4}a_{7}a_{13}a_{16}a_{25}-a_{3}a_{6}a_{15}a_{19}a_{22}-a_{4}a_{10}a_{11}a_{18}a_{22}-a_{2}a_{8}a_{11}a_{20}a_{24}+a_{1}a_{10}a_{12}a_{19}a_{23}+a_{2}a_{8}a_{11}a_{19}a_{25}+a_{5}a_{6}a_{12}a_{18}a_{24}+a_{3}a_{10}a_{12}a_{16}a_{24}-a_{4}a_{6}a_{15}a_{17}a_{23}+a_{3}a_{9}a_{11}a_{17}a_{25}+a_{4}a_{8}a_{15}a_{17}a_{21}-a_{2}a_{8}a_{14}a_{16}a_{25}-a_{5}a_{9}a_{13}a_{16}a_{22}-a_{4}a_{6}a_{13}a_{20}a_{22}+a_{2}a_{8}a_{14}a_{20}a_{21}+a_{2}a_{10}a_{13}a_{19}a_{21}+a_{4}a_{6}a_{12}a_{20}a_{23}+a_{5}a_{8}a_{14}a_{16}a_{22}-a_{5}a_{6}a_{14}a_{18}a_{22}-a_{3}a_{10}a_{12}a_{19}a_{21}+a_{1}a_{8}a_{12}a_{20}a_{24}-a_{1}a_{9}a_{13}a_{17}a_{25}+a_{5}a_{9}a_{13}a_{17}a_{21}+a_{5}a_{9}a_{11}a_{18}a_{22}+a_{1}a_{8}a_{14}a_{17}a_{25}+a_{4}a_{6}a_{15}a_{18}a_{22}-a_{2}a_{10}a_{14}a_{18}a_{21}-a_{1}a_{7}a_{15}a_{19}a_{23}-a_{3}a_{6}a_{14}a_{17}a_{25}+a_{2}a_{6}a_{14}a_{18}a_{25}+a_{4}a_{10}a_{13}a_{16}a_{22}-a_{3}a_{9}a_{11}a_{20}a_{22}+a_{3}a_{9}a_{12}a_{20}a_{21}-a_{5}a_{9}a_{11}a_{17}a_{23}+a_{2}a_{8}a_{15}a_{16}a_{24}+a_{5}a_{8}a_{11}a_{17}a_{24}-a_{4}a_{7}a_{15}a_{18}a_{21}-a_{1}a_{7}a_{14}a_{18}a_{25}-a_{3}a_{9}a_{15}a_{17}a_{21}+a_{4}a_{6}a_{13}a_{17}a_{25}+a_{2}a_{9}a_{13}a_{16}a_{25}-a_{5}a_{7}a_{13}a_{19}a_{21}+a_{5}a_{6}a_{13}a_{19}a_{22}-a_{5}a_{7}a_{14}a_{16}a_{23}+a_{1}a_{7}a_{15}a_{18}a_{24}-a_{1}a_{8}a_{14}a_{20}a_{22}+a_{3}a_{7}a_{11}a_{20}a_{24}+a_{1}a_{9}a_{13}a_{20}a_{22}-a_{4}a_{10}a_{13}a_{17}a_{21}+a_{4}a_{8}a_{12}a_{16}a_{25}+a_{4}a_{7}a_{13}a_{20}a_{21}-a_{2}a_{6}a_{14}a_{20}a_{23}-a_{2}a_{6}a_{15}a_{18}a_{24}-a_{5}a_{7}a_{11}a_{18}a_{24}+a_{5}a_{7}a_{13}a_{16}a_{24}-a_{3}a_{10}a_{14}a_{16}a_{22}+a_{2}a_{10}a_{14}a_{16}a_{23}+a_{3}a_{10}a_{11}a_{19}a_{22}-a_{1}a_{10}a_{14}a_{17}a_{23}+a_{4}a_{10}a_{12}a_{18}a_{21}+a_{3}a_{6}a_{14}a_{20}a_{22}-a_{2}a_{9}a_{13}a_{20}a_{21}-a_{2}a_{8}a_{15}a_{19}a_{21}+a_{2}a_{10}a_{11}a_{18}a_{24}+a_{2}a_{6}a_{15}a_{19}a_{23}+a_{3}a_{10}a_{14}a_{17}a_{21}-a_{1}a_{8}a_{12}a_{19}a_{25}+a_{4}a_{7}a_{15}a_{16}a_{23}+a_{2}a_{9}a_{11}a_{20}a_{23}-a_{5}a_{6}a_{12}a_{19}a_{23}+a_{5}a_{9}a_{12}a_{16}a_{23}+a_{1}a_{10}a_{14}a_{18}a_{22}+a_{1}a_{7}a_{14}a_{20}a_{23}-a_{4}a_{10}a_{12}a_{16}a_{23}+a_{3}a_{6}a_{15}a_{17}a_{24}+a_{1}a_{8}a_{15}a_{19}a_{22}+a_{2}a_{9}a_{15}a_{18}a_{21}-a_{3}a_{7}a_{14}a_{20}a_{21}+a_{4}a_{10}a_{11}a_{17}a_{23}+a_{3}a_{7}a_{14}a_{16}a_{25}-a_{1}a_{10}a_{12}a_{18}a_{24}-a_{1}a_{9}a_{12}a_{20}a_{23}+a_{5}a_{7}a_{14}a_{18}a_{21}-a_{2}a_{6}a_{13}a_{19}a_{25}-a_{4}a_{8}a_{15}a_{16}a_{22}+a_{3}a_{7}a_{15}a_{19}a_{21}-a_{5}a_{8}a_{12}a_{16}a_{24}+a_{1}a_{9}a_{15}a_{17}a_{23}+a_{1}a_{9}a_{12}a_{18}a_{25}-a_{1}a_{8}a_{15}a_{17}a_{24}$"
      ],
      "text/plain": [
       "<IPython.core.display.Markdown object>"
      ]
     },
     "execution_count": 11,
     "metadata": {},
     "output_type": "execute_result"
    }
   ],
   "source": [
    "model.disp_equation(dataset.adapt_alphabet())"
   ]
  },
  {
   "cell_type": "markdown",
   "metadata": {},
   "source": [
    "## Small structured matrices "
   ]
  },
  {
   "cell_type": "code",
   "execution_count": 30,
   "metadata": {},
   "outputs": [
    {
     "data": {
      "text/html": [
       "MatrixDeterminantDataset for matrices of form : <br>$ \\begin{pmatrix} a_{1} & 0 & 0 & 0 \\\\ 0 & a_{2} & 0 & 0 \\\\ 0 & 0 & a_{3} & 0 \\\\ 0 & 0 & 0 & a_{4} \\end{pmatrix}$ "
      ],
      "text/plain": [
       "<datasets.MatrixDeterminantDataset at 0x7f389cb8bd90>"
      ]
     },
     "execution_count": 30,
     "metadata": {},
     "output_type": "execute_result"
    }
   ],
   "source": [
    "ms = np.array([\n",
    "    [1, 0, 0, 0],\n",
    "    [0, 2, 0, 0],\n",
    "    [0, 0, 3, 0],\n",
    "    [0, 0, 0, 4]\n",
    "])\n",
    "\n",
    "dataset = MatrixDeterminantDataset(ms)\n",
    "dataset"
   ]
  },
  {
   "cell_type": "code",
   "execution_count": 31,
   "metadata": {},
   "outputs": [
    {
     "name": "stdout",
     "output_type": "stream",
     "text": [
      "[epoch 250] inter: 0.01413, extra: 0.003108\n",
      "[epoch 500] inter: 0.003798, extra: 0.0007319\n",
      "[epoch 750] inter: 0.001365, extra: 0.0001718\n",
      "[epoch 1000] inter: 0.0005711, extra: 5.58e-05 | reg: 0.05788 (scale: 0.01)\n",
      "[epoch 1250] inter: 0.0002311, extra: 2.52e-05 | reg: 0.05475 (scale: 0.01284)\n",
      "[epoch 1500] inter: 9.101e-05, extra: 9.852e-06 | reg: 0.05277 (scale: 0.01648)\n",
      "[epoch 1750] inter: 2.939e-05, extra: 3.186e-06 | reg: 0.05134 (scale: 0.02116)\n",
      "[epoch 2000] inter: 8.545e-06, extra: 1.325e-06 | reg: 0.04991 (scale: 0.02717)\n",
      "[epoch 2250] inter: 2.161e-06, extra: 2.782e-07 | reg: 0.04793 (scale: 0.03488)\n",
      "[epoch 2500] inter: 9.18e-07, extra: 2.528e-07 | reg: 0.04472 (scale: 0.04478)\n",
      "[epoch 2750] inter: 7.294e-07, extra: 1.43e-07 | reg: 0.03933 (scale: 0.0575)\n",
      "[epoch 3000] inter: 9.766e-07, extra: 2.592e-07 | reg: 0.03068 (scale: 0.07382)\n",
      "[epoch 3250] inter: 1.41e-06, extra: 4.459e-07 | reg: 0.01885 (scale: 0.09477)\n",
      "[epoch 3500] inter: 7.341e-07, extra: 2.407e-07 | reg: 0.007068 (scale: 0.1217)\n",
      "[epoch 3750] inter: 8.617e-08, extra: 2.982e-08 | reg: 0.0008509 (scale: 0.1562)\n"
     ]
    },
    {
     "data": {
      "text/plain": [
       "True"
      ]
     },
     "execution_count": 31,
     "metadata": {},
     "output_type": "execute_result"
    }
   ],
   "source": [
    "model = LeibnizModule(4, 3).cuda()\n",
    "train_until_convergence(\n",
    "    model,\n",
    "    *loaders(dataset),\n",
    "    regualizer_scaling_start=1000,\n",
    "    verbose=True\n",
    ")"
   ]
  },
  {
   "cell_type": "code",
   "execution_count": 32,
   "metadata": {},
   "outputs": [
    {
     "data": {
      "text/markdown": [
       "$a_{1}a_{2}a_{3}a_{4}$"
      ],
      "text/plain": [
       "<IPython.core.display.Markdown object>"
      ]
     },
     "execution_count": 32,
     "metadata": {},
     "output_type": "execute_result"
    }
   ],
   "source": [
    "model.disp_equation(dataset.adapt_alphabet())"
   ]
  },
  {
   "cell_type": "code",
   "execution_count": 33,
   "metadata": {},
   "outputs": [
    {
     "data": {
      "text/html": [
       "MatrixDeterminantDataset for matrices of form : <br>$ \\begin{pmatrix} a & 0 & 0 & b \\\\ 0 & b & d & 0 \\\\ 0 & a & c & 0 \\\\ c & 0 & 0 & d \\end{pmatrix}$ "
      ],
      "text/plain": [
       "<datasets.MatrixDeterminantDataset at 0x7f389c0377d0>"
      ]
     },
     "execution_count": 33,
     "metadata": {},
     "output_type": "execute_result"
    }
   ],
   "source": [
    "ms = np.array([\n",
    "    [1, 0, 0, 2],\n",
    "    [0, 2, 4, 0],\n",
    "    [0, 1, 3, 0],\n",
    "    [3, 0, 0, 4]\n",
    "])\n",
    "\n",
    "dataset = MatrixDeterminantDataset(ms, alphabet=\"abcd\", with_multiplicity=True)\n",
    "dataset"
   ]
  },
  {
   "cell_type": "code",
   "execution_count": 34,
   "metadata": {},
   "outputs": [
    {
     "name": "stdout",
     "output_type": "stream",
     "text": [
      "[epoch 250] inter: 0.3204, extra: 5.759\n",
      "[epoch 500] inter: 0.1778, extra: 1.264\n",
      "[epoch 750] inter: 0.1683, extra: 0.9172\n",
      "[epoch 1000] inter: 0.1504, extra: 0.8756\n",
      "[epoch 1250] inter: 0.08154, extra: 0.7238\n",
      "[epoch 1500] inter: 0.06285, extra: 1.068\n",
      "[epoch 1750] inter: 0.05788, extra: 1.095\n",
      "[epoch 2000] inter: 0.05606, extra: 1.206\n",
      "[epoch 2250] inter: 0.05476, extra: 1.064\n",
      "[epoch 2500] inter: 0.05413, extra: 0.9575\n",
      "[epoch 2750] inter: 0.05208, extra: 0.9202\n",
      "[epoch 3000] inter: 0.0495, extra: 2.228\n",
      "[epoch 3250] inter: 0.02492, extra: 3.642\n",
      "[epoch 3500] inter: 0.008463, extra: 0.7047\n",
      "[epoch 3750] inter: 0.003773, extra: 0.3846\n",
      "[epoch 4000] inter: 0.001895, extra: 0.2581\n",
      "[epoch 4250] inter: 0.001142, extra: 0.2071\n",
      "[epoch 4500] inter: 0.0007177, extra: 0.1381\n",
      "[epoch 4750] inter: 0.0004704, extra: 0.1008\n",
      "[epoch 5000] inter: 0.000338, extra: 0.06413 | reg: 0.02614 (scale: 0.01)\n",
      "[epoch 5250] inter: 0.0002406, extra: 0.05033 | reg: 0.02469 (scale: 0.01284)\n",
      "[epoch 5500] inter: 0.0001599, extra: 0.03259 | reg: 0.02321 (scale: 0.01648)\n",
      "[epoch 5750] inter: 9.446e-05, extra: 0.02262 | reg: 0.02181 (scale: 0.02116)\n",
      "[epoch 6000] inter: 5.544e-05, extra: 0.01272 | reg: 0.02044 (scale: 0.02717)\n",
      "[epoch 6250] inter: 2.91e-05, extra: 0.00616 | reg: 0.01909 (scale: 0.03488)\n",
      "[epoch 6500] inter: 1.422e-05, extra: 0.004174 | reg: 0.0177 (scale: 0.04478)\n",
      "[epoch 6750] inter: 4.654e-06, extra: 0.001147 | reg: 0.01622 (scale: 0.0575)\n",
      "[epoch 7000] inter: 1.314e-06, extra: 0.000207 | reg: 0.01442 (scale: 0.07382)\n",
      "[epoch 7250] inter: 3.436e-07, extra: 1.551e-05 | reg: 0.0117 (scale: 0.09477)\n",
      "[epoch 7500] inter: 1.188e-08, extra: 3.087e-07 | reg: 0.006302 (scale: 0.1217)\n",
      "[epoch 7750] inter: 3.27e-09, extra: 3.587e-07 | reg: 0.002605 (scale: 0.1562)\n",
      "[epoch 8000] inter: 1.778e-09, extra: 1.797e-08 | reg: 0.00178 (scale: 0.2006)\n",
      "[epoch 8250] inter: 1.138e-10, extra: 2.613e-09 | reg: 0.001151 (scale: 0.2575)\n",
      "[epoch 8500] inter: 8.333e-10, extra: 1.566e-07 | reg: 0.000619 (scale: 0.3306)\n"
     ]
    },
    {
     "data": {
      "text/plain": [
       "True"
      ]
     },
     "execution_count": 34,
     "metadata": {},
     "output_type": "execute_result"
    }
   ],
   "source": [
    "model = LeibnizModule(8, 15).cuda()\n",
    "train_until_convergence(\n",
    "    model,\n",
    "    *loaders(dataset),\n",
    "    regualizer_scaling_start=5000,\n",
    "    verbose=True\n",
    ")"
   ]
  },
  {
   "cell_type": "code",
   "execution_count": 35,
   "metadata": {},
   "outputs": [
    {
     "data": {
      "text/markdown": [
       "$abdc-adad-bbcc+abcd$"
      ],
      "text/plain": [
       "<IPython.core.display.Markdown object>"
      ]
     },
     "execution_count": 35,
     "metadata": {},
     "output_type": "execute_result"
    }
   ],
   "source": [
    "model.disp_equation(dataset.adapt_alphabet())"
   ]
  },
  {
   "cell_type": "code",
   "execution_count": 41,
   "metadata": {},
   "outputs": [],
   "source": [
    "def diagonal_plus_two(n):\n",
    "    ms = np.zeros((n, n), dtype=int)\n",
    "    r = np.arange(n)\n",
    "    ms[r, r] = r + 1\n",
    "    ms[0, n-1] = n + 1\n",
    "    ms[n-1, 0] = n + 2\n",
    "    return ms"
   ]
  },
  {
   "cell_type": "code",
   "execution_count": 42,
   "metadata": {},
   "outputs": [
    {
     "data": {
      "text/html": [
       "MatrixDeterminantDataset for matrices of form : <br>$ \\begin{pmatrix} a_{1} & 0 & 0 & a_{5} \\\\ 0 & a_{2} & 0 & 0 \\\\ 0 & 0 & a_{3} & 0 \\\\ a_{6} & 0 & 0 & a_{4} \\end{pmatrix}$ "
      ],
      "text/plain": [
       "<datasets.MatrixDeterminantDataset at 0x7f38940ece50>"
      ]
     },
     "execution_count": 42,
     "metadata": {},
     "output_type": "execute_result"
    }
   ],
   "source": [
    "ms = diagonal_plus_two(4)\n",
    "\n",
    "dataset = MatrixDeterminantDataset(ms, with_multiplicity=True)\n",
    "dataset"
   ]
  },
  {
   "cell_type": "code",
   "execution_count": 44,
   "metadata": {},
   "outputs": [
    {
     "name": "stdout",
     "output_type": "stream",
     "text": [
      "[epoch 250] inter: 0.08171, extra: 0.07482\n",
      "[epoch 500] inter: 0.003969, extra: 0.005359\n",
      "[epoch 750] inter: 0.001085, extra: 0.001514\n",
      "[epoch 1000] inter: 0.000476, extra: 0.0005767 | reg: 0.0701 (scale: 0.01)\n",
      "[epoch 1250] inter: 0.000222, extra: 0.000239 | reg: 0.06955 (scale: 0.01284)\n",
      "[epoch 1500] inter: 0.000115, extra: 0.0001169 | reg: 0.06855 (scale: 0.01648)\n",
      "[epoch 1750] inter: 6.902e-05, extra: 6.582e-05 | reg: 0.06695 (scale: 0.02116)\n",
      "[epoch 2000] inter: 4.608e-05, extra: 4.483e-05 | reg: 0.06436 (scale: 0.02717)\n",
      "[epoch 2250] inter: 2.993e-05, extra: 3.102e-05 | reg: 0.06068 (scale: 0.03488)\n",
      "[epoch 2500] inter: 2.14e-05, extra: 2.116e-05 | reg: 0.05605 (scale: 0.04478)\n",
      "[epoch 2750] inter: 1.373e-05, extra: 1.206e-05 | reg: 0.05094 (scale: 0.0575)\n",
      "[epoch 3000] inter: 4.175e-06, extra: 4.196e-06 | reg: 0.04519 (scale: 0.07382)\n",
      "[epoch 3250] inter: 9.486e-07, extra: 1.112e-06 | reg: 0.0408 (scale: 0.09477)\n",
      "[epoch 3500] inter: 2.108e-06, extra: 2.23e-06 | reg: 0.03627 (scale: 0.1217)\n",
      "[epoch 3750] inter: 2.695e-06, extra: 2.817e-06 | reg: 0.02987 (scale: 0.1562)\n",
      "[epoch 4000] inter: 5.548e-06, extra: 5.777e-06 | reg: 0.02213 (scale: 0.2006)\n",
      "[epoch 4250] inter: 8.941e-06, extra: 9.189e-06 | reg: 0.01386 (scale: 0.2575)\n",
      "[epoch 4500] inter: 6.689e-07, extra: 6.207e-07 | reg: 0.002722 (scale: 0.3306)\n",
      "[epoch 4750] inter: 1.612e-09, extra: 1.613e-09 | reg: 7.601e-05 (scale: 0.4244)\n"
     ]
    },
    {
     "data": {
      "text/plain": [
       "True"
      ]
     },
     "execution_count": 44,
     "metadata": {},
     "output_type": "execute_result"
    }
   ],
   "source": [
    "model = LeibnizModule(6, 10).cuda()\n",
    "train_until_convergence(\n",
    "    model,\n",
    "    *loaders(dataset),\n",
    "    regualizer_scaling_start=1000,\n",
    "    verbose=True\n",
    ")"
   ]
  },
  {
   "cell_type": "code",
   "execution_count": 45,
   "metadata": {},
   "outputs": [
    {
     "data": {
      "text/markdown": [
       "$-a_{5}a_{2}a_{3}a_{6}+a_{1}a_{2}a_{3}a_{4}$"
      ],
      "text/plain": [
       "<IPython.core.display.Markdown object>"
      ]
     },
     "execution_count": 45,
     "metadata": {},
     "output_type": "execute_result"
    }
   ],
   "source": [
    "model.disp_equation(dataset.adapt_alphabet())"
   ]
  },
  {
   "cell_type": "code",
   "execution_count": 115,
   "metadata": {},
   "outputs": [],
   "source": [
    "n = 30\n",
    "ms = diagonal_plus_two(n)\n",
    "\n",
    "dataset = MatrixDeterminantDataset(ms, with_multiplicity=True)\n",
    "\n",
    "inter_samplers = [\n",
    "    one_mean_prod_sample\n",
    "]\n",
    "train_loader = dataset.dataloader(batch_size=64, samplers=[inter_sampler])\n",
    "dataset_valid_interpolation_data = next(iter(dataset.dataloader(batch_size=10000, samplers=[inter_samplers[0]])))\n",
    "dataset_test_extrapolation_data = next(iter(dataset.dataloader(batch_size=10000, samplers=[random_sign(one_mean_prod_sample)])))\n",
    "\n",
    "# dataset"
   ]
  },
  {
   "cell_type": "code",
   "execution_count": 116,
   "metadata": {},
   "outputs": [],
   "source": [
    "# _, _, t = dataset_valid_interpolation_data\n",
    "# plt.hist(t.cpu().numpy().ravel())"
   ]
  },
  {
   "cell_type": "code",
   "execution_count": 120,
   "metadata": {},
   "outputs": [
    {
     "name": "stdout",
     "output_type": "stream",
     "text": [
      "[epoch 250] inter: 3.294, extra: 1.107\n",
      "[epoch 500] inter: 3.33, extra: 1.107\n",
      "[epoch 750] inter: 3.445, extra: 1.107\n",
      "[epoch 1000] inter: 3.419, extra: 1.107\n",
      "[epoch 1250] inter: 3.571, extra: 1.107\n",
      "[epoch 1500] inter: 3.728, extra: 1.107\n",
      "[epoch 1750] inter: 3.736, extra: 1.107\n",
      "[epoch 2000] inter: 3.67, extra: 1.107\n",
      "[epoch 2250] inter: 3.627, extra: 1.107\n",
      "[epoch 2500] inter: 3.682, extra: 1.107\n",
      "[epoch 2750] inter: 3.599, extra: 1.107\n",
      "[epoch 3000] inter: 3.698, extra: 1.107 | reg: 0.06088 (scale: 0.01)\n",
      "[epoch 3250] inter: 1.151, extra: 1.107 | reg: 0.05177 (scale: 0.01284)\n",
      "[epoch 3500] inter: 0.9988, extra: 1.107 | reg: 0.0462 (scale: 0.01648)\n",
      "[epoch 3750] inter: 1.004, extra: 1.107 | reg: 0.0412 (scale: 0.02116)\n",
      "[epoch 4000] inter: 1.04, extra: 1.107 | reg: 0.03673 (scale: 0.02717)\n",
      "[epoch 4250] inter: 0.9863, extra: 1.107 | reg: 0.03271 (scale: 0.03488)\n",
      "[epoch 4500] inter: 1.065, extra: 1.107 | reg: 0.02922 (scale: 0.04478)\n",
      "[epoch 4750] inter: 1.061, extra: 1.107 | reg: 0.02631 (scale: 0.0575)\n",
      "[epoch 5000] inter: 1.052, extra: 1.107 | reg: 0.02397 (scale: 0.07382)\n",
      "[epoch 5250] inter: 1.051, extra: 1.107 | reg: 0.02222 (scale: 0.09477)\n",
      "[epoch 5500] inter: 1.027, extra: 1.106 | reg: 0.02075 (scale: 0.1217)\n"
     ]
    },
    {
     "name": "stderr",
     "output_type": "stream",
     "text": [
      "ERROR:root:Internal Python error in the inspect module.\n",
      "Below is the traceback from this internal error.\n",
      "\n"
     ]
    },
    {
     "name": "stdout",
     "output_type": "stream",
     "text": [
      "Traceback (most recent call last):\n",
      "  File \"/home/infres/alacote/anaconda3/lib/python3.7/site-packages/IPython/core/interactiveshell.py\", line 2961, in run_code\n",
      "    exec(code_obj, self.user_global_ns, self.user_ns)\n",
      "  File \"<ipython-input-120-e4c6e0db3c56>\", line 9, in <module>\n",
      "    lr=1e-4\n",
      "  File \"<ipython-input-20-8f4153d14595>\", line 40, in train_until_convergence\n",
      "    loss_train_criterion = criterion(y_train, t_train) / var\n",
      "  File \"/home/infres/alacote/.local/lib/python3.7/site-packages/torch/nn/modules/module.py\", line 541, in __call__\n",
      "    result = self.forward(*input, **kwargs)\n",
      "  File \"/home/infres/alacote/.local/lib/python3.7/site-packages/torch/nn/modules/loss.py\", line 431, in forward\n",
      "    return F.mse_loss(input, target, reduction=self.reduction)\n",
      "  File \"/home/infres/alacote/.local/lib/python3.7/site-packages/torch/nn/functional.py\", line 2204, in mse_loss\n",
      "    ret = torch._C._nn.mse_loss(expanded_input, expanded_target, _Reduction.get_enum(reduction))\n",
      "KeyboardInterrupt\n",
      "\n",
      "During handling of the above exception, another exception occurred:\n",
      "\n",
      "Traceback (most recent call last):\n",
      "  File \"/home/infres/alacote/anaconda3/lib/python3.7/site-packages/IPython/core/interactiveshell.py\", line 1863, in showtraceback\n",
      "    stb = value._render_traceback_()\n",
      "AttributeError: 'KeyboardInterrupt' object has no attribute '_render_traceback_'\n",
      "\n",
      "During handling of the above exception, another exception occurred:\n",
      "\n",
      "Traceback (most recent call last):\n",
      "  File \"/home/infres/alacote/anaconda3/lib/python3.7/site-packages/IPython/core/ultratb.py\", line 1095, in get_records\n",
      "    return _fixed_getinnerframes(etb, number_of_lines_of_context, tb_offset)\n",
      "  File \"/home/infres/alacote/anaconda3/lib/python3.7/site-packages/IPython/core/ultratb.py\", line 311, in wrapped\n",
      "    return f(*args, **kwargs)\n",
      "  File \"/home/infres/alacote/anaconda3/lib/python3.7/site-packages/IPython/core/ultratb.py\", line 345, in _fixed_getinnerframes\n",
      "    records = fix_frame_records_filenames(inspect.getinnerframes(etb, context))\n",
      "  File \"/home/infres/alacote/anaconda3/lib/python3.7/inspect.py\", line 1502, in getinnerframes\n",
      "    frameinfo = (tb.tb_frame,) + getframeinfo(tb, context)\n",
      "  File \"/home/infres/alacote/anaconda3/lib/python3.7/inspect.py\", line 1460, in getframeinfo\n",
      "    filename = getsourcefile(frame) or getfile(frame)\n",
      "  File \"/home/infres/alacote/anaconda3/lib/python3.7/inspect.py\", line 696, in getsourcefile\n",
      "    if getattr(getmodule(object, filename), '__loader__', None) is not None:\n",
      "  File \"/home/infres/alacote/anaconda3/lib/python3.7/inspect.py\", line 725, in getmodule\n",
      "    file = getabsfile(object, _filename)\n",
      "  File \"/home/infres/alacote/anaconda3/lib/python3.7/inspect.py\", line 709, in getabsfile\n",
      "    return os.path.normcase(os.path.abspath(_filename))\n",
      "  File \"/home/infres/alacote/anaconda3/lib/python3.7/posixpath.py\", line 383, in abspath\n",
      "    cwd = os.getcwd()\n",
      "FileNotFoundError: [Errno 2] No such file or directory\n"
     ]
    },
    {
     "ename": "KeyboardInterrupt",
     "evalue": "",
     "output_type": "error",
     "traceback": [
      "\u001b[0;31m---------------------------------------------------------------------------\u001b[0m"
     ]
    }
   ],
   "source": [
    "model = LeibnizModule(n+2, 200).cuda()\n",
    "train_until_convergence(\n",
    "    model,\n",
    "    train_loader,\n",
    "    dataset_valid_interpolation_data,\n",
    "    dataset_test_extrapolation_data,\n",
    "    regualizer_scaling_start=3000,\n",
    "    verbose=True,\n",
    "    lr=1e-4\n",
    ")"
   ]
  },
  {
   "cell_type": "code",
   "execution_count": 121,
   "metadata": {},
   "outputs": [
    {
     "data": {
      "text/markdown": [
       "$$"
      ],
      "text/plain": [
       "<IPython.core.display.Markdown object>"
      ]
     },
     "execution_count": 121,
     "metadata": {},
     "output_type": "execute_result"
    }
   ],
   "source": [
    "model.disp_equation(dataset.adapt_alphabet())"
   ]
  },
  {
   "cell_type": "code",
   "execution_count": 47,
   "metadata": {},
   "outputs": [],
   "source": [
    "from torch import nn\n",
    "\n",
    "class ConvOperationBlock(nn.Module):\n",
    "    \n",
    "    def __init__(self, kernel_size=2, n_hidden=4, squared=True):\n",
    "        super().__init__()\n",
    "        self.kernel_size = kernel_size\n",
    "        self.n_hidden = n_hidden\n",
    "        self.conv = nn.Sequential(\n",
    "            NMU(kernel_size**2, n_hidden, squared=squared),\n",
    "            NAU(n_hidden, 1, squared=squared)\n",
    "        )\n",
    "        \n",
    "    def forward(self, x):\n",
    "        bs, h, w = x.size()\n",
    "        lines = []\n",
    "        for i in range(h-self.kernel_size+1):\n",
    "            line = []\n",
    "            for j in range(w-self.kernel_size+1):\n",
    "                x_window = x[:, i:i+self.kernel_size, j:j+self.kernel_size]\n",
    "                res = self.conv(x_window.reshape(bs, -1))\n",
    "                line.append(res.squeeze())\n",
    "            lines.append(torch.stack(line))\n",
    "        return torch.stack(lines).permute(2, 0, 1)\n",
    "    \n",
    "    def __repr__(self):\n",
    "        return f\"COB({self.kernel_size}x{self.kernel_size}, n_hidden={self.n_hidden})\"\n",
    "    \n",
    "class ConvOperationsBank(nn.Module):\n",
    "    \n",
    "    def __init__(self, n_out, kernel_size=2, n_hidden=4, squared=True, ravel=False):\n",
    "        super().__init__()\n",
    "        self.coblocks = []\n",
    "        for i in range(n_out):\n",
    "            coblock = ConvOperationBlock(kernel_size, n_hidden, squared)\n",
    "            setattr(self, 'conv{}'.format(i), coblock)\n",
    "            self.coblocks.append(coblock)\n",
    "        self.ravel = ravel\n",
    "        \n",
    "    def forward(self, x):\n",
    "        outs = []\n",
    "        for coblock in self.coblocks:\n",
    "            outs.append(coblock(x))\n",
    "        out = torch.stack(outs).transpose(0, 1)\n",
    "        if(self.ravel):\n",
    "            return out.reshape(out.size(0), -1)\n",
    "        else:\n",
    "            return out"
   ]
  },
  {
   "cell_type": "code",
   "execution_count": 51,
   "metadata": {},
   "outputs": [
    {
     "name": "stdout",
     "output_type": "stream",
     "text": [
      "[epoch 250] inter: 0.9917, extra: 1.109\n",
      "[epoch 500] inter: 0.9917, extra: 1.109\n",
      "[epoch 750] inter: 0.9917, extra: 1.109\n",
      "[epoch 1000] inter: 0.9917, extra: 1.109\n"
     ]
    },
    {
     "name": "stderr",
     "output_type": "stream",
     "text": [
      "ERROR:root:Internal Python error in the inspect module.\n",
      "Below is the traceback from this internal error.\n",
      "\n"
     ]
    },
    {
     "name": "stdout",
     "output_type": "stream",
     "text": [
      "Traceback (most recent call last):\n",
      "  File \"/home/infres/alacote/anaconda3/lib/python3.7/site-packages/IPython/core/interactiveshell.py\", line 2961, in run_code\n",
      "    exec(code_obj, self.user_global_ns, self.user_ns)\n",
      "  File \"<ipython-input-51-9a75d59119fd>\", line 11, in <module>\n",
      "    verbose=True\n",
      "  File \"<ipython-input-20-8f4153d14595>\", line 25, in train_until_convergence\n",
      "    y_train = model(x_train)\n",
      "  File \"/home/infres/alacote/.local/lib/python3.7/site-packages/torch/nn/modules/module.py\", line 541, in __call__\n",
      "    result = self.forward(*input, **kwargs)\n",
      "  File \"/home/infres/alacote/.local/lib/python3.7/site-packages/torch/nn/modules/container.py\", line 92, in forward\n",
      "    input = module(input)\n",
      "  File \"/home/infres/alacote/.local/lib/python3.7/site-packages/torch/nn/modules/module.py\", line 541, in __call__\n",
      "    result = self.forward(*input, **kwargs)\n",
      "  File \"<ipython-input-47-c7d0604e49e6>\", line 43, in forward\n",
      "    outs.append(coblock(x))\n",
      "  File \"/home/infres/alacote/.local/lib/python3.7/site-packages/torch/nn/modules/module.py\", line 541, in __call__\n",
      "    result = self.forward(*input, **kwargs)\n",
      "  File \"<ipython-input-47-c7d0604e49e6>\", line 21, in forward\n",
      "    res = self.conv(x_window.reshape(bs, -1))\n",
      "  File \"/home/infres/alacote/.local/lib/python3.7/site-packages/torch/nn/modules/module.py\", line 541, in __call__\n",
      "    result = self.forward(*input, **kwargs)\n",
      "  File \"/home/infres/alacote/.local/lib/python3.7/site-packages/torch/nn/modules/container.py\", line 92, in forward\n",
      "    input = module(input)\n",
      "  File \"/home/infres/alacote/.local/lib/python3.7/site-packages/torch/nn/modules/module.py\", line 541, in __call__\n",
      "    result = self.forward(*input, **kwargs)\n",
      "  File \"/home/infres/alacote/RECVIS/modules.py\", line 68, in forward\n",
      "    return torch.nn.functional.linear(x, W)\n",
      "  File \"/home/infres/alacote/.local/lib/python3.7/site-packages/torch/nn/functional.py\", line 1372, in linear\n",
      "    output = input.matmul(weight.t())\n",
      "KeyboardInterrupt\n",
      "\n",
      "During handling of the above exception, another exception occurred:\n",
      "\n",
      "Traceback (most recent call last):\n",
      "  File \"/home/infres/alacote/anaconda3/lib/python3.7/site-packages/IPython/core/interactiveshell.py\", line 1863, in showtraceback\n",
      "    stb = value._render_traceback_()\n",
      "AttributeError: 'KeyboardInterrupt' object has no attribute '_render_traceback_'\n",
      "\n",
      "During handling of the above exception, another exception occurred:\n",
      "\n",
      "Traceback (most recent call last):\n",
      "  File \"/home/infres/alacote/anaconda3/lib/python3.7/site-packages/IPython/core/ultratb.py\", line 1095, in get_records\n",
      "    return _fixed_getinnerframes(etb, number_of_lines_of_context, tb_offset)\n",
      "  File \"/home/infres/alacote/anaconda3/lib/python3.7/site-packages/IPython/core/ultratb.py\", line 311, in wrapped\n",
      "    return f(*args, **kwargs)\n",
      "  File \"/home/infres/alacote/anaconda3/lib/python3.7/site-packages/IPython/core/ultratb.py\", line 345, in _fixed_getinnerframes\n",
      "    records = fix_frame_records_filenames(inspect.getinnerframes(etb, context))\n",
      "  File \"/home/infres/alacote/anaconda3/lib/python3.7/inspect.py\", line 1502, in getinnerframes\n",
      "    frameinfo = (tb.tb_frame,) + getframeinfo(tb, context)\n",
      "  File \"/home/infres/alacote/anaconda3/lib/python3.7/inspect.py\", line 1460, in getframeinfo\n",
      "    filename = getsourcefile(frame) or getfile(frame)\n",
      "  File \"/home/infres/alacote/anaconda3/lib/python3.7/inspect.py\", line 696, in getsourcefile\n",
      "    if getattr(getmodule(object, filename), '__loader__', None) is not None:\n",
      "  File \"/home/infres/alacote/anaconda3/lib/python3.7/inspect.py\", line 725, in getmodule\n",
      "    file = getabsfile(object, _filename)\n",
      "  File \"/home/infres/alacote/anaconda3/lib/python3.7/inspect.py\", line 709, in getabsfile\n",
      "    return os.path.normcase(os.path.abspath(_filename))\n",
      "  File \"/home/infres/alacote/anaconda3/lib/python3.7/posixpath.py\", line 383, in abspath\n",
      "    cwd = os.getcwd()\n",
      "FileNotFoundError: [Errno 2] No such file or directory\n"
     ]
    },
    {
     "ename": "KeyboardInterrupt",
     "evalue": "",
     "output_type": "error",
     "traceback": [
      "\u001b[0;31m---------------------------------------------------------------------------\u001b[0m"
     ]
    }
   ],
   "source": [
    "dataset = MatrixDeterminantDataset(ms, matrix_form=True)\n",
    "model = nn.Sequential(\n",
    "    ConvOperationsBank(5, kernel_size=2, n_hidden=5, ravel=True),\n",
    "    NMU(5*9, 5),\n",
    "    NAU(5, 1)\n",
    ").cuda()\n",
    "train_until_convergence(\n",
    "    model,\n",
    "    *loaders(dataset),\n",
    "    regualizer_scaling_start=5000,\n",
    "    verbose=True\n",
    ")"
   ]
  }
 ],
 "metadata": {
  "kernelspec": {
   "display_name": "Python 3",
   "language": "python",
   "name": "python3"
  },
  "language_info": {
   "codemirror_mode": {
    "name": "ipython",
    "version": 3
   },
   "file_extension": ".py",
   "mimetype": "text/x-python",
   "name": "python",
   "nbconvert_exporter": "python",
   "pygments_lexer": "ipython3",
   "version": "3.7.4"
  }
 },
 "nbformat": 4,
 "nbformat_minor": 2
}
