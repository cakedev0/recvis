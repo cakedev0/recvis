{
 "cells": [
  {
   "cell_type": "code",
   "execution_count": 1,
   "metadata": {},
   "outputs": [],
   "source": [
    "import torch\n",
    "import numpy as np\n",
    "\n",
    "import matplotlib.pyplot as plt\n",
    "%matplotlib inline\n",
    "\n",
    "import regularization as R\n",
    "from modules import NMU, NAU, LeibnizModule\n",
    "from samplers import *\n",
    "from datasets import MatrixDeterminantDataset, BatchDataLoader\n",
    "\n",
    "torch.cuda.set_device(2)"
   ]
  },
  {
   "cell_type": "code",
   "execution_count": 3,
   "metadata": {},
   "outputs": [],
   "source": [
    "def train_until_convergence(\n",
    "    model,\n",
    "    train_loader,\n",
    "    dataset_valid_interpolation_data,\n",
    "    dataset_test_extrapolation_data,\n",
    "    regualizer_scaling_start=5000,\n",
    "    max_iter=20000,\n",
    "    alpha_scale=1.001,\n",
    "    alpha_start=0.05,\n",
    "    check_period=250,\n",
    "    lr=2e-3,\n",
    "    verbose=False\n",
    "):\n",
    "    optimizer = torch.optim.Adam(model.parameters(), lr=lr)\n",
    "    criterion = torch.nn.MSELoss()\n",
    "    \n",
    "    def test_model(data):\n",
    "        with torch.no_grad():\n",
    "            var, x, t = data\n",
    "            return criterion(model(x), t) / var\n",
    "    \n",
    "    for epoch_i, (var, x_train, t_train) in zip(range(1, max_iter + 1), train_loader):\n",
    "        optimizer.zero_grad()\n",
    "        # forward\n",
    "        y_train = model(x_train)\n",
    "\n",
    "        if(epoch_i == regualizer_scaling_start):\n",
    "            r_w_scale = 0.01\n",
    "        elif(epoch_i > regualizer_scaling_start):\n",
    "            r_w_scale *= alpha_scale\n",
    "        else:\n",
    "            r_w_scale = 0\n",
    "            \n",
    "        muls = dict(\n",
    "            sparsity=r_w_scale,\n",
    "            n_coeffs=0\n",
    "        )\n",
    "\n",
    "        loss_train_regualizer = R.eval_regularizers(model, muls)\n",
    "        loss_train_criterion = criterion(y_train, t_train) / var\n",
    "        loss_train = loss_train_criterion + loss_train_regualizer\n",
    "        \n",
    "        if(epoch_i % check_period == 0):\n",
    "            interpolation_error = test_model(dataset_valid_interpolation_data) \n",
    "            extrapolation_error = test_model(dataset_test_extrapolation_data) \n",
    "            sparsity_loss = loss_train_regualizer.detach().cpu().numpy()\n",
    "            if(verbose):\n",
    "                infos = f\"[epoch {epoch_i}] inter: {interpolation_error:.4g}, extra: {extrapolation_error:.4g}\"\n",
    "                if(r_w_scale > 0):\n",
    "                    infos += f\" | reg: {sparsity_loss / r_w_scale:.4g} (scale: {r_w_scale:.4g})\"\n",
    "                print(infos)\n",
    "            if(r_w_scale > 0):\n",
    "                if(sparsity_loss / r_w_scale < 1e-4 and interpolation_error < 1e-3 and extrapolation_error < 1e-3):\n",
    "                    return True\n",
    "\n",
    "        \n",
    "        # Optimize model\n",
    "        if loss_train.requires_grad:\n",
    "            loss_train.backward()\n",
    "            optimizer.step()\n",
    "    return False\n",
    "\n",
    "def loaders(dataset):\n",
    "    inter_sampler = uniform(-2, 2)\n",
    "    train_loader = dataset.dataloader(batch_size=64, samplers=[inter_sampler])\n",
    "    dataset_valid_interpolation_data = next(iter(dataset.dataloader(batch_size=10000, samplers=[inter_sampler])))\n",
    "    dataset_test_extrapolation_data = next(iter(dataset.dataloader(batch_size=10000, samplers=[uniform(-4, 4)])))\n",
    "    return train_loader, dataset_valid_interpolation_data, dataset_test_extrapolation_data"
   ]
  },
  {
   "cell_type": "markdown",
   "metadata": {},
   "source": [
    "## Size of Leibniz module hidden layer"
   ]
  },
  {
   "cell_type": "code",
   "execution_count": 4,
   "metadata": {},
   "outputs": [
    {
     "data": {
      "text/html": [
       "MatrixDeterminantDataset for matrices of form : <br>$ \\begin{pmatrix} a_{1} & a_{2} & a_{3} & a_{4} \\\\ a_{5} & a_{6} & a_{7} & a_{8} \\\\ a_{9} & a_{10} & a_{11} & a_{12} \\\\ a_{13} & a_{14} & a_{15} & a_{16} \\end{pmatrix}$ <br>Network input is : $ \\left(a_{1} \\; a_{2} \\; a_{3} \\; a_{4} \\; a_{5} \\; a_{6} \\; a_{7} \\; a_{8} \\; a_{9} \\; a_{10} \\; a_{11} \\; a_{12} \\; a_{13} \\; a_{14} \\; a_{15} \\; a_{16}\\right)$ "
      ],
      "text/plain": [
       "<datasets.MatrixDeterminantDataset at 0x7f7c41e38690>"
      ]
     },
     "execution_count": 4,
     "metadata": {},
     "output_type": "execute_result"
    }
   ],
   "source": [
    "ms = np.array([\n",
    "    [1, 2, 3, 4],\n",
    "    [5, 6, 7, 8],\n",
    "    [9, 10, 11, 12],\n",
    "    [13, 14, 15, 16]\n",
    "])\n",
    "\n",
    "dataset = MatrixDeterminantDataset(ms)\n",
    "dataset"
   ]
  },
  {
   "cell_type": "code",
   "execution_count": 9,
   "metadata": {},
   "outputs": [
    {
     "data": {
      "application/vnd.jupyter.widget-view+json": {
       "model_id": "4da7083bd75c4bc9a8b1d2698c16e506",
       "version_major": 2,
       "version_minor": 0
      },
      "text/plain": [
       "HBox(children=(IntProgress(value=0, max=20), HTML(value='')))"
      ]
     },
     "metadata": {},
     "output_type": "display_data"
    },
    {
     "name": "stdout",
     "output_type": "stream",
     "text": [
      "{'hidden size': 24, 'converged': False}\n",
      "{'hidden size': 24, 'converged': False}\n",
      "{'hidden size': 24, 'converged': False}\n",
      "{'hidden size': 24, 'converged': False}\n",
      "{'hidden size': 24, 'converged': False}\n",
      "{'hidden size': 50, 'converged': False}\n",
      "{'hidden size': 50, 'converged': False}\n",
      "{'hidden size': 50, 'converged': False}\n",
      "{'hidden size': 50, 'converged': False}\n",
      "{'hidden size': 50, 'converged': False}\n",
      "{'hidden size': 100, 'converged': True}\n",
      "{'hidden size': 100, 'converged': True}\n",
      "{'hidden size': 100, 'converged': True}\n",
      "{'hidden size': 100, 'converged': True}\n",
      "{'hidden size': 100, 'converged': True}\n",
      "{'hidden size': 200, 'converged': True}\n",
      "{'hidden size': 200, 'converged': True}\n",
      "{'hidden size': 200, 'converged': True}\n",
      "{'hidden size': 200, 'converged': True}\n",
      "{'hidden size': 200, 'converged': True}\n",
      "\n"
     ]
    }
   ],
   "source": [
    "from tqdm import tqdm_notebook as tqdm\n",
    "data = []\n",
    "n_repeat = 5\n",
    "hidden_sizes = [24, 50, 100, 200]\n",
    "\n",
    "with tqdm(range(len(hidden_sizes)*n_repeat)) as pbar:\n",
    "    for hidden_size in hidden_sizes:\n",
    "        for _ in range(n_repeat):\n",
    "            model = LeibnizModule(16, hidden_size).cuda()\n",
    "            converged = train_until_convergence(\n",
    "                model,\n",
    "                *loaders(dataset),\n",
    "                regualizer_scaling_start=10000,\n",
    "                max_iter=20000)\n",
    "            data.append({\"hidden size\": hidden_size, \"converged\": converged})\n",
    "            print(data[-1])\n",
    "            pbar.update(1)"
   ]
  },
  {
   "cell_type": "markdown",
   "metadata": {},
   "source": [
    "## Influence of sampling distribution "
   ]
  },
  {
   "cell_type": "code",
   "execution_count": 42,
   "metadata": {},
   "outputs": [],
   "source": [
    "def diagonal_plus_two(n):\n",
    "    ms = np.zeros((n, n), dtype=int)\n",
    "    r = np.arange(n)\n",
    "    ms[r, r] = r + 1\n",
    "    ms[0, n-1] = n + 1\n",
    "    ms[n-1, 0] = n + 2\n",
    "    return ms"
   ]
  },
  {
   "cell_type": "code",
   "execution_count": 34,
   "metadata": {},
   "outputs": [
    {
     "data": {
      "text/html": [
       "MatrixDeterminantDataset for matrices of form : <br>$ \\begin{pmatrix} a_{1} & 0 & 0 & 0 & 0 & 0 & 0 & 0 & a_{10} \\\\ 0 & a_{2} & 0 & 0 & 0 & 0 & 0 & 0 & 0 \\\\ 0 & 0 & a_{3} & 0 & 0 & 0 & 0 & 0 & 0 \\\\ 0 & 0 & 0 & a_{4} & 0 & 0 & 0 & 0 & 0 \\\\ 0 & 0 & 0 & 0 & a_{5} & 0 & 0 & 0 & 0 \\\\ 0 & 0 & 0 & 0 & 0 & a_{6} & 0 & 0 & 0 \\\\ 0 & 0 & 0 & 0 & 0 & 0 & a_{7} & 0 & 0 \\\\ 0 & 0 & 0 & 0 & 0 & 0 & 0 & a_{8} & 0 \\\\ a_{11} & 0 & 0 & 0 & 0 & 0 & 0 & 0 & a_{9} \\end{pmatrix}$ <br>Network input is : $ \\left(a_{1} \\; a_{10} \\; a_{2} \\; a_{3} \\; a_{4} \\; a_{5} \\; a_{6} \\; a_{7} \\; a_{8} \\; a_{11} \\; a_{9}\\right)$ "
      ],
      "text/plain": [
       "<datasets.MatrixDeterminantDataset at 0x7f7bdc45dd10>"
      ]
     },
     "execution_count": 34,
     "metadata": {},
     "output_type": "execute_result"
    }
   ],
   "source": [
    "n = 9\n",
    "ms = diagonal_plus_two(n)\n",
    "\n",
    "dataset = MatrixDeterminantDataset(ms, with_multiplicity=True)\n",
    "dataset"
   ]
  },
  {
   "cell_type": "code",
   "execution_count": 43,
   "metadata": {},
   "outputs": [
    {
     "data": {
      "image/png": "[encoded data removed]",
      "text/plain": [
       "<Figure size 432x288 with 1 Axes>"
      ]
     },
     "metadata": {
      "needs_background": "light"
     },
     "output_type": "display_data"
    }
   ],
   "source": [
    "inter_sampler = random_sign(one_mean_prod_sample)\n",
    "extra_sampler = one_mean_prod_sample\n",
    "\n",
    "_ = plt.hist(inter_sampler(size=100000), bins=60)"
   ]
  },
  {
   "cell_type": "code",
   "execution_count": 5,
   "metadata": {},
   "outputs": [
    {
     "data": {
      "text/plain": [
       "0.7816567084030749"
      ]
     },
     "execution_count": 5,
     "metadata": {},
     "output_type": "execute_result"
    }
   ],
   "source": [
    "n = 100\n",
    "np.mean(np.prod(one_mean_prod_sample(size=(1000, n)), axis=1))"
   ]
  },
  {
   "cell_type": "code",
   "execution_count": 44,
   "metadata": {},
   "outputs": [
    {
     "name": "stdout",
     "output_type": "stream",
     "text": [
      "[epoch 250] inter: 0.9853, extra: 2.493\n",
      "[epoch 500] inter: 0.9836, extra: 2.481\n",
      "[epoch 750] inter: 0.9814, extra: 2.05\n",
      "[epoch 1000] inter: 0.978, extra: 1.498\n",
      "[epoch 1250] inter: 0.9727, extra: 1.517\n",
      "[epoch 1500] inter: 0.9618, extra: 1.632\n",
      "[epoch 1750] inter: 0.938, extra: 1.026\n",
      "[epoch 2000] inter: 0.8883, extra: 0.7666\n",
      "[epoch 2250] inter: 0.7864, extra: 0.6987\n",
      "[epoch 2500] inter: 0.6118, extra: 0.4813\n",
      "[epoch 2750] inter: 0.4028, extra: 0.2995\n",
      "[epoch 3000] inter: 0.2335, extra: 0.2267\n",
      "[epoch 3250] inter: 0.1205, extra: 0.3184\n",
      "[epoch 3500] inter: 0.06383, extra: 0.527\n",
      "[epoch 3750] inter: 0.0365, extra: 0.5729\n",
      "[epoch 4000] inter: 0.02493, extra: 0.3784\n",
      "[epoch 4250] inter: 0.01903, extra: 0.2452\n",
      "[epoch 4500] inter: 0.0153, extra: 0.2496\n",
      "[epoch 4750] inter: 0.01266, extra: 0.1942\n",
      "[epoch 5000] inter: 0.01044, extra: 0.1048 | reg: 0.06471 (scale: 0.01)\n",
      "[epoch 5250] inter: 0.00865, extra: 0.05745 | reg: 0.0646 (scale: 0.01284)\n",
      "[epoch 5500] inter: 0.007165, extra: 0.04707 | reg: 0.0645 (scale: 0.01648)\n",
      "[epoch 5750] inter: 0.005833, extra: 0.02336 | reg: 0.06437 (scale: 0.02116)\n",
      "[epoch 6000] inter: 0.004702, extra: 0.01888 | reg: 0.0642 (scale: 0.02717)\n",
      "[epoch 6250] inter: 0.003752, extra: 0.005007 | reg: 0.06397 (scale: 0.03488)\n",
      "[epoch 6500] inter: 0.002952, extra: 0.003881 | reg: 0.06368 (scale: 0.04478)\n",
      "[epoch 6750] inter: 0.002284, extra: 0.009752 | reg: 0.06328 (scale: 0.0575)\n",
      "[epoch 7000] inter: 0.001727, extra: 0.01003 | reg: 0.06273 (scale: 0.07382)\n",
      "[epoch 7250] inter: 0.001284, extra: 0.008409 | reg: 0.06199 (scale: 0.09477)\n",
      "[epoch 7500] inter: 0.0009243, extra: 0.0054 | reg: 0.061 (scale: 0.1217)\n",
      "[epoch 7750] inter: 0.0006579, extra: 0.004438 | reg: 0.05966 (scale: 0.1562)\n",
      "[epoch 8000] inter: 0.0004616, extra: 0.004249 | reg: 0.05792 (scale: 0.2006)\n",
      "[epoch 8250] inter: 0.0003207, extra: 0.002926 | reg: 0.05571 (scale: 0.2575)\n",
      "[epoch 8500] inter: 0.0002245, extra: 0.001473 | reg: 0.05302 (scale: 0.3306)\n",
      "[epoch 8750] inter: 0.0001562, extra: 0.0008783 | reg: 0.0499 (scale: 0.4244)\n",
      "[epoch 9000] inter: 0.0001113, extra: 0.0009612 | reg: 0.04641 (scale: 0.5449)\n",
      "[epoch 9250] inter: 7.839e-05, extra: 0.001215 | reg: 0.04258 (scale: 0.6996)\n",
      "[epoch 9500] inter: 5.589e-05, extra: 0.0007181 | reg: 0.03836 (scale: 0.8981)\n",
      "[epoch 9750] inter: 3.937e-05, extra: 0.002059 | reg: 0.03374 (scale: 1.153)\n",
      "[epoch 10000] inter: 2.812e-05, extra: 0.0009608 | reg: 0.0288 (scale: 1.48)\n",
      "[epoch 10250] inter: 1.813e-05, extra: 0.0007285 | reg: 0.02377 (scale: 1.901)\n",
      "[epoch 10500] inter: 1.064e-05, extra: 0.0001946 | reg: 0.01894 (scale: 2.44)\n",
      "[epoch 10750] inter: 5.618e-06, extra: 0.0001208 | reg: 0.01457 (scale: 3.133)\n",
      "[epoch 11000] inter: 3.35e-06, extra: 1.37e-05 | reg: 0.01082 (scale: 4.022)\n",
      "[epoch 11250] inter: 3.523e-06, extra: 4.18e-06 | reg: 0.007759 (scale: 5.164)\n",
      "[epoch 11500] inter: 3.749e-06, extra: 0.0001746 | reg: 0.005366 (scale: 6.63)\n",
      "[epoch 11750] inter: 4.026e-06, extra: 0.0001674 | reg: 0.003559 (scale: 8.512)\n",
      "[epoch 12000] inter: 5.245e-06, extra: 5.141e-05 | reg: 0.00225 (scale: 10.93)\n",
      "[epoch 12250] inter: 4.458e-06, extra: 1.47e-05 | reg: 0.001347 (scale: 14.03)\n",
      "[epoch 12500] inter: 3.171e-06, extra: 3.983e-05 | reg: 0.0007573 (scale: 18.01)\n",
      "[epoch 12750] inter: 2.03e-06, extra: 0.0001096 | reg: 0.0003932 (scale: 23.13)\n",
      "[epoch 13000] inter: 1.669e-06, extra: 7.256e-05 | reg: 0.0001818 (scale: 29.69)\n",
      "[epoch 13250] inter: 1.191e-06, extra: 8.074e-05 | reg: 6.926e-05 (scale: 38.12)\n"
     ]
    },
    {
     "data": {
      "text/plain": [
       "True"
      ]
     },
     "execution_count": 44,
     "metadata": {},
     "output_type": "execute_result"
    }
   ],
   "source": [
    "train_loader = dataset.dataloader(batch_size=64, samplers=[inter_sampler])\n",
    "dataset_valid_interpolation_data = next(iter(dataset.dataloader(batch_size=10000, samplers=[inter_sampler])))\n",
    "dataset_test_extrapolation_data = next(iter(dataset.dataloader(batch_size=10000, samplers=[extra_sampler])))\n",
    "\n",
    "model = LeibnizModule(n+2, 100).cuda()\n",
    "train_until_convergence(\n",
    "    model,\n",
    "    train_loader,\n",
    "    dataset_valid_interpolation_data,\n",
    "    dataset_test_extrapolation_data,\n",
    "    regualizer_scaling_start=5000,\n",
    "    verbose=True,\n",
    "    lr=1e-4\n",
    ")"
   ]
  },
  {
   "cell_type": "code",
   "execution_count": 46,
   "metadata": {},
   "outputs": [
    {
     "data": {
      "image/png": "[encoded data removed]",
      "text/plain": [
       "<Figure size 432x288 with 1 Axes>"
      ]
     },
     "metadata": {
      "needs_background": "light"
     },
     "output_type": "display_data"
    }
   ],
   "source": [
    "inter_sampler = uniform(-1, 1)\n",
    "extra_sampler = one_mean_prod_sample\n",
    "\n",
    "_ = plt.hist(inter_sampler(size=100000), bins=30)"
   ]
  },
  {
   "cell_type": "code",
   "execution_count": 48,
   "metadata": {},
   "outputs": [
    {
     "name": "stdout",
     "output_type": "stream",
     "text": [
      "[epoch 500] inter: 1.205, extra: 2.447\n",
      "[epoch 1000] inter: 1.193, extra: 2.913\n",
      "[epoch 1500] inter: 1.187, extra: 2.172\n",
      "[epoch 2000] inter: 1.184, extra: 1.943\n",
      "[epoch 2500] inter: 1.181, extra: 1.923\n",
      "[epoch 3000] inter: 1.18, extra: 1.795\n",
      "[epoch 3500] inter: 1.179, extra: 1.757\n",
      "[epoch 4000] inter: 1.178, extra: 1.078\n",
      "[epoch 4500] inter: 1.175, extra: 1.196\n",
      "[epoch 5000] inter: 1.175, extra: 1.191\n",
      "[epoch 5500] inter: 1.173, extra: 1.25\n",
      "[epoch 6000] inter: 1.173, extra: 1.266\n",
      "[epoch 6500] inter: 1.173, extra: 1.208\n",
      "[epoch 7000] inter: 1.172, extra: 1.133\n",
      "[epoch 7500] inter: 1.171, extra: 1.249\n",
      "[epoch 8000] inter: 1.17, extra: 1.215\n",
      "[epoch 8500] inter: 1.171, extra: 1.073\n",
      "[epoch 9000] inter: 1.171, extra: 1.025\n",
      "[epoch 9500] inter: 1.171, extra: 1.158\n",
      "[epoch 10000] inter: 1.17, extra: 1.137 | reg: 0.06642 (scale: 0.01)\n",
      "[epoch 10500] inter: 1.17, extra: 1.007 | reg: 0.06641 (scale: 0.01648)\n",
      "[epoch 11000] inter: 1.169, extra: 1.092 | reg: 0.06639 (scale: 0.02717)\n",
      "[epoch 11500] inter: 1.17, extra: 0.9991 | reg: 0.06636 (scale: 0.04478)\n",
      "[epoch 12000] inter: 1.169, extra: 1.074 | reg: 0.06634 (scale: 0.07382)\n",
      "[epoch 12500] inter: 1.169, extra: 1.05 | reg: 0.06631 (scale: 0.1217)\n",
      "[epoch 13000] inter: 1.169, extra: 1.011 | reg: 0.06625 (scale: 0.2006)\n",
      "[epoch 13500] inter: 1.17, extra: 1.333 | reg: 0.06621 (scale: 0.3306)\n",
      "[epoch 14000] inter: 1.171, extra: 1.062 | reg: 0.06613 (scale: 0.5449)\n",
      "[epoch 14500] inter: 1.169, extra: 0.9959 | reg: 0.06604 (scale: 0.8981)\n",
      "[epoch 15000] inter: 1.169, extra: 1.08 | reg: 0.06591 (scale: 1.48)\n",
      "[epoch 15500] inter: 1.169, extra: 1.032 | reg: 0.06567 (scale: 2.44)\n",
      "[epoch 16000] inter: 1.17, extra: 1.229 | reg: 0.06527 (scale: 4.022)\n",
      "[epoch 16500] inter: 1.169, extra: 0.9781 | reg: 0.06457 (scale: 6.63)\n",
      "[epoch 17000] inter: 1.169, extra: 0.9583 | reg: 0.06339 (scale: 10.93)\n",
      "[epoch 17500] inter: 1.169, extra: 0.9862 | reg: 0.06143 (scale: 18.01)\n",
      "[epoch 18000] inter: 1.168, extra: 0.9424 | reg: 0.05857 (scale: 29.69)\n",
      "[epoch 18500] inter: 1.168, extra: 0.9456 | reg: 0.05428 (scale: 48.94)\n",
      "[epoch 19000] inter: 1.167, extra: 0.9387 | reg: 0.04873 (scale: 80.67)\n",
      "[epoch 19500] inter: 1.169, extra: 0.929 | reg: 0.04217 (scale: 133)\n",
      "[epoch 20000] inter: 1.166, extra: 0.9194 | reg: 0.03432 (scale: 219.2)\n",
      "[epoch 20500] inter: 1.163, extra: 0.9173 | reg: 0.02512 (scale: 361.3)\n",
      "[epoch 21000] inter: 1.167, extra: 0.948 | reg: 0.01591 (scale: 595.5)\n",
      "[epoch 21500] inter: 1.166, extra: 0.9603 | reg: 0.008438 (scale: 981.5)\n",
      "[epoch 22000] inter: 1.166, extra: 0.9441 | reg: 0.003641 (scale: 1618)\n",
      "[epoch 22500] inter: 1.172, extra: 0.9422 | reg: 0.001217 (scale: 2667)\n",
      "[epoch 23000] inter: 1.172, extra: 0.9474 | reg: 0.000291 (scale: 4395)\n",
      "[epoch 23500] inter: 1.17, extra: 0.9466 | reg: 4.337e-05 (scale: 7245)\n",
      "[epoch 24000] inter: 1.17, extra: 0.9545 | reg: 3.248e-06 (scale: 1.194e+04)\n",
      "[epoch 24500] inter: 1.168, extra: 0.9541 | reg: 3.292e-07 (scale: 1.968e+04)\n",
      "[epoch 25000] inter: 1.166, extra: 0.9473 | reg: 1.732e-07 (scale: 3.245e+04)\n"
     ]
    },
    {
     "data": {
      "text/plain": [
       "False"
      ]
     },
     "execution_count": 48,
     "metadata": {},
     "output_type": "execute_result"
    }
   ],
   "source": [
    "train_loader = dataset.dataloader(batch_size=64, samplers=[inter_sampler])\n",
    "dataset_valid_interpolation_data = next(iter(dataset.dataloader(batch_size=10000, samplers=[inter_sampler])))\n",
    "dataset_test_extrapolation_data = next(iter(dataset.dataloader(batch_size=10000, samplers=[extra_sampler])))\n",
    "\n",
    "model = LeibnizModule(n+2, 100).cuda()\n",
    "train_until_convergence(\n",
    "    model,\n",
    "    train_loader,\n",
    "    dataset_valid_interpolation_data,\n",
    "    dataset_test_extrapolation_data,\n",
    "    regualizer_scaling_start=10000,\n",
    "    max_iter=25000,\n",
    "    check_period=500,\n",
    "    verbose=True,\n",
    "    lr=1e-4\n",
    ")"
   ]
  }
 ],
 "metadata": {
  "kernelspec": {
   "display_name": "Python 3",
   "language": "python",
   "name": "python3"
  },
  "language_info": {
   "codemirror_mode": {
    "name": "ipython",
    "version": 3
   },
   "file_extension": ".py",
   "mimetype": "text/x-python",
   "name": "python",
   "nbconvert_exporter": "python",
   "pygments_lexer": "ipython3",
   "version": "3.7.4"
  }
 },
 "nbformat": 4,
 "nbformat_minor": 2
}
